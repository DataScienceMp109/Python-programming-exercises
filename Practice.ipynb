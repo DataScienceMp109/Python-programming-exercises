{
 "cells": [
  {
   "cell_type": "code",
   "execution_count": 1,
   "metadata": {
    "collapsed": false
   },
   "outputs": [],
   "source": [
    "import numpy as np\n",
    "import pandas as pd"
   ]
  },
  {
   "cell_type": "code",
   "execution_count": 2,
   "metadata": {
    "collapsed": false
   },
   "outputs": [],
   "source": [
    "#----------------------------------------#\n",
    "# Question 1\n",
    "# Level 1\n",
    "\n",
    "# Question:\n",
    "# Write a program which will find all such numbers which are divisible by 7 but are not a multiple of 5,\n",
    "# between 2000 and 3200 (both included).\n",
    "# The numbers obtained should be printed in a comma-separated sequence on a single line.\n",
    "\n",
    "# Hints: \n",
    "# Consider use range(#begin, #end) method"
   ]
  },
  {
   "cell_type": "code",
   "execution_count": 3,
   "metadata": {
    "collapsed": false
   },
   "outputs": [
    {
     "data": {
      "text/plain": [
       "0"
      ]
     },
     "execution_count": 3,
     "metadata": {},
     "output_type": "execute_result"
    }
   ],
   "source": [
    "15%15"
   ]
  },
  {
   "cell_type": "code",
   "execution_count": 4,
   "metadata": {
    "collapsed": false
   },
   "outputs": [],
   "source": [
    "l=[i for i in range(2000,3201) if (i%7==0) & (i%5!=0)]\n",
    "l_n=map(str,l)"
   ]
  },
  {
   "cell_type": "code",
   "execution_count": 5,
   "metadata": {
    "collapsed": false
   },
   "outputs": [
    {
     "name": "stdout",
     "output_type": "stream",
     "text": [
      "2002,2009,2016,2023,2037,2044,2051,2058,2072,2079,2086,2093,2107,2114,2121,2128,2142,2149,2156,2163,2177,2184,2191,2198,2212,2219,2226,2233,2247,2254,2261,2268,2282,2289,2296,2303,2317,2324,2331,2338,2352,2359,2366,2373,2387,2394,2401,2408,2422,2429,2436,2443,2457,2464,2471,2478,2492,2499,2506,2513,2527,2534,2541,2548,2562,2569,2576,2583,2597,2604,2611,2618,2632,2639,2646,2653,2667,2674,2681,2688,2702,2709,2716,2723,2737,2744,2751,2758,2772,2779,2786,2793,2807,2814,2821,2828,2842,2849,2856,2863,2877,2884,2891,2898,2912,2919,2926,2933,2947,2954,2961,2968,2982,2989,2996,3003,3017,3024,3031,3038,3052,3059,3066,3073,3087,3094,3101,3108,3122,3129,3136,3143,3157,3164,3171,3178,3192,3199\n"
     ]
    }
   ],
   "source": [
    "print ','.join(l_n)"
   ]
  },
  {
   "cell_type": "code",
   "execution_count": 6,
   "metadata": {
    "collapsed": false
   },
   "outputs": [
    {
     "name": "stdout",
     "output_type": "stream",
     "text": [
      "2002--------2009--------2016--------2023--------2037--------2044--------2051--------2058--------2072--------2079--------2086--------2093--------2107--------2114--------2121--------2128--------2142--------2149--------2156--------2163--------2177--------2184--------2191--------2198--------2212--------2219--------2226--------2233--------2247--------2254--------2261--------2268--------2282--------2289--------2296--------2303--------2317--------2324--------2331--------2338--------2352--------2359--------2366--------2373--------2387--------2394--------2401--------2408--------2422--------2429--------2436--------2443--------2457--------2464--------2471--------2478--------2492--------2499--------2506--------2513--------2527--------2534--------2541--------2548--------2562--------2569--------2576--------2583--------2597--------2604--------2611--------2618--------2632--------2639--------2646--------2653--------2667--------2674--------2681--------2688--------2702--------2709--------2716--------2723--------2737--------2744--------2751--------2758--------2772--------2779--------2786--------2793--------2807--------2814--------2821--------2828--------2842--------2849--------2856--------2863--------2877--------2884--------2891--------2898--------2912--------2919--------2926--------2933--------2947--------2954--------2961--------2968--------2982--------2989--------2996--------3003--------3017--------3024--------3031--------3038--------3052--------3059--------3066--------3073--------3087--------3094--------3101--------3108--------3122--------3129--------3136--------3143--------3157--------3164--------3171--------3178--------3192--------3199\n"
     ]
    }
   ],
   "source": [
    "print \"--------\".join(l_n)"
   ]
  },
  {
   "cell_type": "markdown",
   "metadata": {},
   "source": [
    ".join method\n",
    "- https://www.tutorialspoint.com/python/string_join.htm"
   ]
  },
  {
   "cell_type": "code",
   "execution_count": 7,
   "metadata": {
    "collapsed": false
   },
   "outputs": [
    {
     "name": "stdout",
     "output_type": "stream",
     "text": [
      "a-b-c\n"
     ]
    }
   ],
   "source": [
    "s = \"-\";\n",
    "seq = (\"a\", \"b\", \"c\"); # This is sequence of strings.\n",
    "print s.join( seq )"
   ]
  },
  {
   "cell_type": "code",
   "execution_count": 8,
   "metadata": {
    "collapsed": true
   },
   "outputs": [],
   "source": [
    "# Question 2\n",
    "# Level 1\n",
    "\n",
    "# Question:\n",
    "# Write a program which can compute the factorial of a given numbers.\n",
    "# The results should be printed in a comma-separated sequence on a single line.\n",
    "# Suppose the following input is supplied to the program:\n",
    "# 8\n",
    "# Then, the output should be:\n",
    "# 40320"
   ]
  },
  {
   "cell_type": "code",
   "execution_count": 9,
   "metadata": {
    "collapsed": false
   },
   "outputs": [],
   "source": [
    "def fb(x):\n",
    "    if x==0:\n",
    "        return 1\n",
    "    return x*fb(x-1)"
   ]
  },
  {
   "cell_type": "code",
   "execution_count": 10,
   "metadata": {
    "collapsed": false
   },
   "outputs": [
    {
     "data": {
      "text/plain": [
       "40320"
      ]
     },
     "execution_count": 10,
     "metadata": {},
     "output_type": "execute_result"
    }
   ],
   "source": [
    "fb(8)"
   ]
  },
  {
   "cell_type": "code",
   "execution_count": 11,
   "metadata": {
    "collapsed": true
   },
   "outputs": [],
   "source": [
    "# Question 3\n",
    "# Level 1\n",
    "\n",
    "# Question:\n",
    "# With a given integral number n, write a program to generate a dictionary that contains (i, i*i) such that is an integral number between 1 and n (both included). and then the program should print the dictionary.\n",
    "# Suppose the following input is supplied to the program:\n",
    "# 8\n",
    "# Then, the output should be:\n",
    "# {1: 1, 2: 4, 3: 9, 4: 16, 5: 25, 6: 36, 7: 49, 8: 64}\n",
    "\n",
    "# Hints:\n",
    "# In case of input data being supplied to the question, it should be assumed to be a console input.\n",
    "# Consider use dict()"
   ]
  },
  {
   "cell_type": "code",
   "execution_count": 12,
   "metadata": {
    "collapsed": false
   },
   "outputs": [],
   "source": [
    "def c_sq(i):\n",
    "    return {i:i**2 for i in range(1,i+1)}"
   ]
  },
  {
   "cell_type": "code",
   "execution_count": 13,
   "metadata": {
    "collapsed": false
   },
   "outputs": [
    {
     "data": {
      "text/plain": [
       "{1: 1,\n",
       " 2: 4,\n",
       " 3: 9,\n",
       " 4: 16,\n",
       " 5: 25,\n",
       " 6: 36,\n",
       " 7: 49,\n",
       " 8: 64,\n",
       " 9: 81,\n",
       " 10: 100,\n",
       " 11: 121,\n",
       " 12: 144,\n",
       " 13: 169,\n",
       " 14: 196,\n",
       " 15: 225,\n",
       " 16: 256,\n",
       " 17: 289,\n",
       " 18: 324,\n",
       " 19: 361,\n",
       " 20: 400}"
      ]
     },
     "execution_count": 13,
     "metadata": {},
     "output_type": "execute_result"
    }
   ],
   "source": [
    "c_sq(20)"
   ]
  },
  {
   "cell_type": "code",
   "execution_count": 14,
   "metadata": {
    "collapsed": true
   },
   "outputs": [],
   "source": [
    "# Question 4\n",
    "# Level 1\n",
    "\n",
    "# Question:\n",
    "# Write a program which accepts a sequence of comma-separated numbers from console and generate a list and a tuple which \n",
    "# contains every number.\n",
    "# Suppose the following input is supplied to the program:\n",
    "# 34,67,55,33,12,98\n",
    "# Then, the output should be:\n",
    "# ['34', '67', '55', '33', '12', '98']\n",
    "# ('34', '67', '55', '33', '12', '98')\n",
    "\n",
    "# Hints:\n",
    "# In case of input data being supplied to the question, it should be assumed to be a console input.\n",
    "# tuple() method can convert list to tuple"
   ]
  },
  {
   "cell_type": "code",
   "execution_count": 31,
   "metadata": {
    "collapsed": false
   },
   "outputs": [
    {
     "name": "stdout",
     "output_type": "stream",
     "text": [
      "j,jk,j\n"
     ]
    }
   ],
   "source": [
    "s=raw_input()"
   ]
  },
  {
   "cell_type": "code",
   "execution_count": 37,
   "metadata": {
    "collapsed": false
   },
   "outputs": [],
   "source": [
    "?s.split()"
   ]
  },
  {
   "cell_type": "code",
   "execution_count": 10,
   "metadata": {
    "collapsed": true
   },
   "outputs": [],
   "source": [
    "def tuple_list():\n",
    "    l=list(input())\n",
    "    t=tuple(l)\n",
    "    return l,t"
   ]
  },
  {
   "cell_type": "code",
   "execution_count": 12,
   "metadata": {
    "collapsed": false
   },
   "outputs": [
    {
     "name": "stdout",
     "output_type": "stream",
     "text": [
      "'g','g','5'\n"
     ]
    },
    {
     "data": {
      "text/plain": [
       "(['g', 'g', '5'], ('g', 'g', '5'))"
      ]
     },
     "execution_count": 12,
     "metadata": {},
     "output_type": "execute_result"
    }
   ],
   "source": [
    "tuple_list()"
   ]
  },
  {
   "cell_type": "code",
   "execution_count": 29,
   "metadata": {
    "collapsed": false
   },
   "outputs": [],
   "source": [
    "l=['gsfsdfsd,do not know how ','g','5']"
   ]
  },
  {
   "cell_type": "code",
   "execution_count": 30,
   "metadata": {
    "collapsed": false
   },
   "outputs": [
    {
     "data": {
      "text/plain": [
       "['gsfsdfsd', 'do not know how ']"
      ]
     },
     "execution_count": 30,
     "metadata": {},
     "output_type": "execute_result"
    }
   ],
   "source": [
    "l[0].split(\",\")"
   ]
  },
  {
   "cell_type": "code",
   "execution_count": null,
   "metadata": {
    "collapsed": true
   },
   "outputs": [],
   "source": [
    "# Question 5\n",
    "# Level 1\n",
    "\n",
    "# Question:\n",
    "# Define a class which has at least two methods:\n",
    "# getString: to get a string from console input\n",
    "# printString: to print the string in upper case.\n",
    "# Also please include simple test function to test the class methods.\n",
    "\n",
    "# Hints:\n",
    "# Use __init__ method to construct some parameters"
   ]
  },
  {
   "cell_type": "code",
   "execution_count": 10,
   "metadata": {
    "collapsed": true
   },
   "outputs": [],
   "source": [
    "class Employee:\n",
    "    pass\n"
   ]
  },
  {
   "cell_type": "code",
   "execution_count": 15,
   "metadata": {
    "collapsed": true
   },
   "outputs": [],
   "source": [
    "emp_1=Employee()\n",
    "emp_2=Employee()"
   ]
  },
  {
   "cell_type": "code",
   "execution_count": 16,
   "metadata": {
    "collapsed": false
   },
   "outputs": [
    {
     "name": "stdout",
     "output_type": "stream",
     "text": [
      "<__main__.Employee instance at 0x000000000945F0C8>\n",
      "<__main__.Employee instance at 0x000000000945F108>\n"
     ]
    }
   ],
   "source": [
    "print(emp_1)\n",
    "print(emp_2)"
   ]
  },
  {
   "cell_type": "code",
   "execution_count": 21,
   "metadata": {
    "collapsed": true
   },
   "outputs": [],
   "source": [
    "emp_1.firt='Corey'\n",
    "emp_1.last='Schafer'\n",
    "emp_1.email='Corey.Shafer@compay.com'\n",
    "emp_1.pay=50000\n",
    "\n",
    "emp_2.firt='test'\n",
    "emp_2.last='user'\n",
    "emp_2.email='test.user@compay.com'\n",
    "emp_2.pay=60000"
   ]
  },
  {
   "cell_type": "code",
   "execution_count": 28,
   "metadata": {
    "collapsed": false
   },
   "outputs": [
    {
     "name": "stdout",
     "output_type": "stream",
     "text": [
      "corey.Schafer@company.com\n",
      "user.test@company.com\n"
     ]
    }
   ],
   "source": [
    "print(emp_1.email)\n",
    "print(emp_2.email)"
   ]
  },
  {
   "cell_type": "code",
   "execution_count": 43,
   "metadata": {
    "collapsed": true
   },
   "outputs": [],
   "source": [
    "class Employee:\n",
    "    \n",
    "    num_of_emps=0\n",
    "    raise_amount=1.04\n",
    "    \n",
    "    def __init__(self,first,last,pay):\n",
    "        self.first=first\n",
    "        self.last=last\n",
    "        self.pay=pay\n",
    "        self.email=first+'.'+last+'@company.com'\n",
    "        \n",
    "        Employee.num_of_emps +=1\n",
    "    \n",
    "    def fullname(self):\n",
    "        return '{} {}'.format(self.first,self.last)\n",
    "        \n",
    "    \n",
    "    def apply_raise(self):\n",
    "        self.pay=int(self.pay*self.raise_amount)\n",
    "      "
   ]
  },
  {
   "cell_type": "code",
   "execution_count": 9,
   "metadata": {
    "collapsed": false
   },
   "outputs": [
    {
     "name": "stdout",
     "output_type": "stream",
     "text": [
      "corey.Schafer@company.com\n",
      "user.test@company.com\n"
     ]
    }
   ],
   "source": [
    "emp_1=Employee('corey','Schafer',50000)\n",
    "emp_2=Employee('user','test',60000)\n",
    "print(emp_1.email)\n",
    "print(emp_2.email)"
   ]
  },
  {
   "cell_type": "code",
   "execution_count": 5,
   "metadata": {
    "collapsed": false
   },
   "outputs": [
    {
     "name": "stdout",
     "output_type": "stream",
     "text": [
      "corey Schafer\n"
     ]
    }
   ],
   "source": [
    "print('{} {}'.format(emp_1.first,emp_1.last))"
   ]
  },
  {
   "cell_type": "code",
   "execution_count": 6,
   "metadata": {
    "collapsed": false
   },
   "outputs": [
    {
     "name": "stdout",
     "output_type": "stream",
     "text": [
      "corey Schafer\n",
      "user test\n"
     ]
    }
   ],
   "source": [
    "print(emp_1.fullname())\n",
    "print(emp_2.fullname())"
   ]
  },
  {
   "cell_type": "code",
   "execution_count": 7,
   "metadata": {
    "collapsed": false
   },
   "outputs": [
    {
     "data": {
      "text/plain": [
       "'corey Schafer'"
      ]
     },
     "execution_count": 7,
     "metadata": {},
     "output_type": "execute_result"
    }
   ],
   "source": [
    "emp_1.fullname()\n",
    "Employee.fullname(emp_1)"
   ]
  },
  {
   "cell_type": "code",
   "execution_count": 31,
   "metadata": {
    "collapsed": false
   },
   "outputs": [
    {
     "name": "stdout",
     "output_type": "stream",
     "text": [
      "50000\n",
      "52500\n"
     ]
    }
   ],
   "source": [
    "print(emp_1.pay)\n",
    "emp_1.apply_raise()\n",
    "print(emp_1.pay)"
   ]
  },
  {
   "cell_type": "code",
   "execution_count": 32,
   "metadata": {
    "collapsed": false
   },
   "outputs": [
    {
     "name": "stdout",
     "output_type": "stream",
     "text": [
      "52500\n"
     ]
    }
   ],
   "source": [
    "print(emp_1.pay)"
   ]
  },
  {
   "cell_type": "code",
   "execution_count": 33,
   "metadata": {
    "collapsed": false
   },
   "outputs": [
    {
     "name": "stdout",
     "output_type": "stream",
     "text": [
      "1.05\n",
      "1.05\n",
      "1.05\n"
     ]
    }
   ],
   "source": [
    "print(Employee.raise_amount)\n",
    "print(emp_1.raise_amount)\n",
    "print(emp_2.raise_amount)"
   ]
  },
  {
   "cell_type": "code",
   "execution_count": 20,
   "metadata": {
    "collapsed": false
   },
   "outputs": [
    {
     "name": "stdout",
     "output_type": "stream",
     "text": [
      "{'__module__': '__main__', '__init__': <function __init__ at 0x000000000979B828>, 'raise_amount': 1.04, 'fullname': <function fullname at 0x000000000979BDD8>, '__doc__': None, 'apply_raise': <function apply_raise at 0x000000000979BC88>}\n"
     ]
    }
   ],
   "source": [
    "print(Employee.__dict__)"
   ]
  },
  {
   "cell_type": "code",
   "execution_count": 21,
   "metadata": {
    "collapsed": false
   },
   "outputs": [
    {
     "name": "stdout",
     "output_type": "stream",
     "text": [
      "{'pay': 52000, 'last': 'Schafer', 'email': 'corey.Schafer@company.com', 'first': 'corey'}\n"
     ]
    }
   ],
   "source": [
    "print(emp_1.__dict__)"
   ]
  },
  {
   "cell_type": "code",
   "execution_count": 35,
   "metadata": {
    "collapsed": false
   },
   "outputs": [
    {
     "name": "stdout",
     "output_type": "stream",
     "text": [
      "1.05\n",
      "1.05\n",
      "1.05\n"
     ]
    }
   ],
   "source": [
    "Employee.raise_amount=1.05\n",
    "emp_1=Employee('corey','Schafer',50000)\n",
    "emp_2=Employee('user','test',60000)\n",
    "print(Employee.raise_amount)\n",
    "print(emp_1.raise_amount)\n",
    "print(emp_2.raise_amount)"
   ]
  },
  {
   "cell_type": "code",
   "execution_count": 46,
   "metadata": {
    "collapsed": false
   },
   "outputs": [
    {
     "name": "stdout",
     "output_type": "stream",
     "text": [
      "1.04\n",
      "1.04\n",
      "1.04\n"
     ]
    }
   ],
   "source": [
    "\n",
    "emp_1=Employee('corey','Schafer',50000)\n",
    "emp_2=Employee('user','test',60000)\n",
    "emp_1.raise_amount=1.04\n",
    "print(Employee.raise_amount)\n",
    "print(emp_1.raise_amount)\n",
    "print(emp_2.raise_amount)"
   ]
  },
  {
   "cell_type": "code",
   "execution_count": 44,
   "metadata": {
    "collapsed": false
   },
   "outputs": [
    {
     "name": "stdout",
     "output_type": "stream",
     "text": [
      "0\n",
      "2\n"
     ]
    }
   ],
   "source": [
    "print(Employee.num_of_emps)\n",
    "emp_1=Employee('corey','Schafer',50000)\n",
    "emp_2=Employee('user','test',60000)\n",
    "print(Employee.num_of_emps)"
   ]
  },
  {
   "cell_type": "code",
   "execution_count": 47,
   "metadata": {
    "collapsed": false
   },
   "outputs": [
    {
     "name": "stdout",
     "output_type": "stream",
     "text": [
      "{'pay': 50000, 'raise_amount': 1.04, 'last': 'Schafer', 'email': 'corey.Schafer@company.com', 'first': 'corey'}\n"
     ]
    }
   ],
   "source": [
    "print(emp_1.__dict__)"
   ]
  },
  {
   "cell_type": "code",
   "execution_count": 58,
   "metadata": {
    "collapsed": true
   },
   "outputs": [],
   "source": [
    "class Employee:\n",
    "    \n",
    "    num_of_emps=0\n",
    "    raise_amount=1.04\n",
    "    \n",
    "    def __init__(self,first,last,pay):\n",
    "        self.first=first\n",
    "        self.last=last\n",
    "        self.pay=pay\n",
    "        self.email=first+'.'+last+'@company.com'\n",
    "        \n",
    "        Employee.num_of_emps +=1\n",
    "    \n",
    "    def fullname(self):\n",
    "        return '{} {}'.format(self.first,self.last)\n",
    "        \n",
    "    \n",
    "    def apply_raise(self):\n",
    "        self.pay=int(self.pay*self.raise_amount)\n",
    "    \n",
    "    @classmethod\n",
    "    def set_raise_amt(cls,amount):\n",
    "        cls.raise_amount=amount\n",
    "    \n",
    "    @classmethod\n",
    "    def from_string(cls,emp_str):\n",
    "        first,last,pay=emp_str.split('-')\n",
    "        return cls(first,last,pay)\n"
   ]
  },
  {
   "cell_type": "code",
   "execution_count": 50,
   "metadata": {
    "collapsed": true
   },
   "outputs": [],
   "source": [
    "Employee.set_raise_amt(1.05)"
   ]
  },
  {
   "cell_type": "code",
   "execution_count": 51,
   "metadata": {
    "collapsed": false
   },
   "outputs": [
    {
     "name": "stdout",
     "output_type": "stream",
     "text": [
      "1.05\n",
      "1.05\n",
      "1.05\n"
     ]
    }
   ],
   "source": [
    "emp_1=Employee('corey','Schafer',50000)\n",
    "emp_2=Employee('user','test',60000)\n",
    "print(Employee.raise_amount)\n",
    "print(emp_1.raise_amount)\n",
    "print(emp_2.raise_amount)"
   ]
  },
  {
   "cell_type": "code",
   "execution_count": 52,
   "metadata": {
    "collapsed": true
   },
   "outputs": [],
   "source": [
    "emp_str_1='John-Doe-70000'\n",
    "emp_str_2='Steve-Smith-30000'\n",
    "emp_str_3='John-Doe-90000'"
   ]
  },
  {
   "cell_type": "code",
   "execution_count": 55,
   "metadata": {
    "collapsed": false
   },
   "outputs": [
    {
     "name": "stdout",
     "output_type": "stream",
     "text": [
      "John.Doe@company.com\n",
      "70000\n"
     ]
    }
   ],
   "source": [
    "first,last,pay=emp_str_1.split('-')\n",
    "new_emp_1=Employee(first,last,pay)\n",
    "print(new_emp_1.email)\n",
    "print(new_emp_1.pay)"
   ]
  },
  {
   "cell_type": "code",
   "execution_count": 59,
   "metadata": {
    "collapsed": false
   },
   "outputs": [
    {
     "name": "stdout",
     "output_type": "stream",
     "text": [
      "John.Doe@company.com\n",
      "70000\n"
     ]
    }
   ],
   "source": [
    "new_emp_1=Employee.from_string(emp_str_1)\n",
    "print(new_emp_1.email)\n",
    "print(new_emp_1.pay)"
   ]
  },
  {
   "cell_type": "code",
   "execution_count": 67,
   "metadata": {
    "collapsed": false
   },
   "outputs": [],
   "source": [
    "class Employee:\n",
    "    \n",
    "    num_of_emps=0\n",
    "    raise_amount=1.04\n",
    "    \n",
    "    def __init__(self,first,last,pay):\n",
    "        self.first=first\n",
    "        self.last=last\n",
    "        self.pay=pay\n",
    "        self.email=first+'.'+last+'@company.com'\n",
    "        \n",
    "        Employee.num_of_emps +=1\n",
    "    \n",
    "    def fullname(self):\n",
    "        return '{} {}'.format(self.first,self.last)\n",
    "        \n",
    "    \n",
    "    def apply_raise(self):\n",
    "        self.pay=int(self.pay*self.raise_amount)\n",
    "    \n",
    "    @classmethod\n",
    "    def set_raise_amt(cls,amount):\n",
    "        cls.raise_amount=amount\n",
    "    \n",
    "    @classmethod\n",
    "    def from_string(cls,emp_str):\n",
    "        first,last,pay=emp_str.split('-')\n",
    "        return cls(first,last,pay)\n",
    "    \n",
    "    @staticmethod\n",
    "    def is_workday(day):\n",
    "        if (day.weekday() == 5) or (day.weekday()==6):\n",
    "            return False\n",
    "        else:\n",
    "            return True\n"
   ]
  },
  {
   "cell_type": "code",
   "execution_count": 68,
   "metadata": {
    "collapsed": true
   },
   "outputs": [],
   "source": [
    "emp_1=Employee('corey','Schafer',50000)\n",
    "emp_2=Employee('user','test',60000)"
   ]
  },
  {
   "cell_type": "code",
   "execution_count": 69,
   "metadata": {
    "collapsed": true
   },
   "outputs": [],
   "source": [
    "import datetime"
   ]
  },
  {
   "cell_type": "code",
   "execution_count": 70,
   "metadata": {
    "collapsed": false
   },
   "outputs": [
    {
     "name": "stdout",
     "output_type": "stream",
     "text": [
      "False\n"
     ]
    }
   ],
   "source": [
    "my_date=datetime.date(2016,7,10)\n",
    "print(Employee.is_workday(my_date))"
   ]
  },
  {
   "cell_type": "code",
   "execution_count": 71,
   "metadata": {
    "collapsed": false
   },
   "outputs": [
    {
     "name": "stdout",
     "output_type": "stream",
     "text": [
      "True\n"
     ]
    }
   ],
   "source": [
    "my_date=datetime.date(2016,7,11)\n",
    "print(Employee.is_workday(my_date))"
   ]
  }
 ],
 "metadata": {
  "kernelspec": {
   "display_name": "Python 2",
   "language": "python",
   "name": "python2"
  },
  "language_info": {
   "codemirror_mode": {
    "name": "ipython",
    "version": 2
   },
   "file_extension": ".py",
   "mimetype": "text/x-python",
   "name": "python",
   "nbconvert_exporter": "python",
   "pygments_lexer": "ipython2",
   "version": "2.7.13"
  }
 },
 "nbformat": 4,
 "nbformat_minor": 2
}
