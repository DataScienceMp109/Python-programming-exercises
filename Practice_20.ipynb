{
 "cells": [
  {
   "cell_type": "code",
   "execution_count": 1,
   "metadata": {
    "collapsed": true
   },
   "outputs": [],
   "source": [
    "import numpy as np\n",
    "import pandas as pd"
   ]
  },
  {
   "cell_type": "code",
   "execution_count": 2,
   "metadata": {
    "collapsed": true
   },
   "outputs": [],
   "source": [
    "# Question 11\n",
    "# Level 2\n",
    "\n",
    "# Question:\n",
    "# Write a program which accepts a sequence of comma separated 4 digit binary numbers as its input \n",
    "# and then check whether they are divisible by 5 or not. The numbers that are divisible by 5 are to be \n",
    "# printed in a comma separated sequence.\n",
    "# Example:\n",
    "# 0100,0011,1010,1001\n",
    "# Then the output should be:\n",
    "# 1010\n",
    "# Notes: Assume the data is input by console.\n",
    "\n",
    "# Hints:\n",
    "# In case of input data being supplied to the question, it should be assumed to be a console input."
   ]
  },
  {
   "cell_type": "code",
   "execution_count": 37,
   "metadata": {
    "collapsed": false
   },
   "outputs": [
    {
     "name": "stdout",
     "output_type": "stream",
     "text": [
      "0100,0011,1010,1001\n",
      "100 1010\n"
     ]
    }
   ],
   "source": [
    "print ' '.join(map(str,[i for i in map(int,raw_input().split(',')) if i%5==0]))"
   ]
  },
  {
   "cell_type": "code",
   "execution_count": 38,
   "metadata": {
    "collapsed": true
   },
   "outputs": [],
   "source": [
    "# Question 12\n",
    "# Level 2\n",
    "\n",
    "# Question:\n",
    "# Write a program, which will find all such numbers between 1000 and 3000 (both included) \n",
    "# such that each digit of the number is an even number.\n",
    "# The numbers obtained should be printed in a comma-separated sequence on a single line.\n",
    "\n",
    "# Hints:\n",
    "# In case of input data being supplied to the question, it should be assumed to be a console input."
   ]
  },
  {
   "cell_type": "code",
   "execution_count": 118,
   "metadata": {
    "collapsed": false
   },
   "outputs": [],
   "source": [
    "i=range(1000,3001)"
   ]
  },
  {
   "cell_type": "code",
   "execution_count": 102,
   "metadata": {
    "collapsed": true
   },
   "outputs": [],
   "source": [
    "def div2(d2):\n",
    "    if d2%2==0:\n",
    "        return True\n",
    "    else:\n",
    "        return False"
   ]
  },
  {
   "cell_type": "code",
   "execution_count": 106,
   "metadata": {
    "collapsed": false
   },
   "outputs": [],
   "source": [
    "def div2_all(d3):\n",
    "    if np.sum(map(div2,map(int,[j for j in str(d3)])))==4:\n",
    "        return True\n",
    "    else:\n",
    "        return False"
   ]
  },
  {
   "cell_type": "code",
   "execution_count": 122,
   "metadata": {
    "collapsed": false
   },
   "outputs": [
    {
     "data": {
      "text/plain": [
       "1000    2000\n",
       "1002    2002\n",
       "1004    2004\n",
       "1006    2006\n",
       "1008    2008\n",
       "dtype: int64"
      ]
     },
     "execution_count": 122,
     "metadata": {},
     "output_type": "execute_result"
    }
   ],
   "source": [
    "pd.Series(i)[map(div2_all,range(1000,3001))].head(5)"
   ]
  },
  {
   "cell_type": "code",
   "execution_count": 127,
   "metadata": {
    "collapsed": false
   },
   "outputs": [
    {
     "name": "stdout",
     "output_type": "stream",
     "text": [
      "['2000', '2002', '2004', '2006', '2008', '2020', '2022', '2024', '2026', '2028', '2040', '2042', '2044', '2046', '2048', '2060', '2062', '2064', '2066', '2068', '2080', '2082', '2084', '2086', '2088', '2200', '2202', '2204', '2206', '2208', '2220', '2222', '2224', '2226', '2228', '2240', '2242', '2244', '2246', '2248', '2260', '2262', '2264', '2266', '2268', '2280', '2282', '2284', '2286', '2288', '2400', '2402', '2404', '2406', '2408', '2420', '2422', '2424', '2426', '2428', '2440', '2442', '2444', '2446', '2448', '2460', '2462', '2464', '2466', '2468', '2480', '2482', '2484', '2486', '2488', '2600', '2602', '2604', '2606', '2608', '2620', '2622', '2624', '2626', '2628', '2640', '2642', '2644', '2646', '2648', '2660', '2662', '2664', '2666', '2668', '2680', '2682', '2684', '2686', '2688', '2800', '2802', '2804', '2806', '2808', '2820', '2822', '2824', '2826', '2828', '2840', '2842', '2844', '2846', '2848', '2860', '2862', '2864', '2866', '2868', '2880', '2882', '2884', '2886', '2888']\n"
     ]
    }
   ],
   "source": [
    "values=[]\n",
    "for i in range(1000,3001):\n",
    "    s=str(i)\n",
    "    if(int(s[0])%2==0) and (int(s[1])%2==0) and (int(s[2])%2==0) and (int(s[3])%2==0):\n",
    "        values.append(s)\n",
    "print values"
   ]
  },
  {
   "cell_type": "code",
   "execution_count": null,
   "metadata": {
    "collapsed": true
   },
   "outputs": [],
   "source": []
  }
 ],
 "metadata": {
  "kernelspec": {
   "display_name": "Python 2",
   "language": "python",
   "name": "python2"
  },
  "language_info": {
   "codemirror_mode": {
    "name": "ipython",
    "version": 2
   },
   "file_extension": ".py",
   "mimetype": "text/x-python",
   "name": "python",
   "nbconvert_exporter": "python",
   "pygments_lexer": "ipython2",
   "version": "2.7.13"
  }
 },
 "nbformat": 4,
 "nbformat_minor": 2
}
